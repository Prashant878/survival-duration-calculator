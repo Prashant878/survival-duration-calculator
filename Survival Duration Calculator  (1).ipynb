{
 "cells": [
  {
   "cell_type": "markdown",
   "id": "4747d180",
   "metadata": {},
   "source": [
    "The objective of the project is to calculate the duration of how long a person lived based on his Age. The duration should be calculated in different time units like Months, Weeks, Days, Hours, Minutes, Seconds The input to the application is an Age of a person and the output is expected to calculate the duration of time he lived in different time units as selected by the user."
   ]
  },
  {
   "cell_type": "code",
   "execution_count": 11,
   "id": "1b00428b",
   "metadata": {},
   "outputs": [
    {
     "data": {
      "text/plain": [
       "{'months': 312,\n",
       " 'weeks': 1352,\n",
       " 'days': 9490,\n",
       " 'hours': 227916,\n",
       " 'minutes': 13674960,\n",
       " 'seconds': 820497600}"
      ]
     },
     "execution_count": 11,
     "metadata": {},
     "output_type": "execute_result"
    }
   ],
   "source": [
    "def calculate_age_in_units(age):\n",
    "    units = {\n",
    "        'months': age * 12,\n",
    "        'weeks': age * 52,\n",
    "        'days': age * 365,\n",
    "        'hours': age * 8766,\n",
    "        'minutes': age * 525960,\n",
    "        'seconds': age * 31557600\n",
    "    }\n",
    "    return units\n",
    "\n",
    "# Test the function with an age of 25 years\n",
    "age = 26\n",
    "results = calculate_age_in_units(age)\n",
    "results"
   ]
  },
  {
   "cell_type": "code",
   "execution_count": null,
   "id": "e4e00194",
   "metadata": {},
   "outputs": [],
   "source": []
  },
  {
   "cell_type": "code",
   "execution_count": null,
   "id": "657187a3",
   "metadata": {},
   "outputs": [],
   "source": []
  }
 ],
 "metadata": {
  "kernelspec": {
   "display_name": "Python 3 (ipykernel)",
   "language": "python",
   "name": "python3"
  },
  "language_info": {
   "codemirror_mode": {
    "name": "ipython",
    "version": 3
   },
   "file_extension": ".py",
   "mimetype": "text/x-python",
   "name": "python",
   "nbconvert_exporter": "python",
   "pygments_lexer": "ipython3",
   "version": "3.11.4"
  }
 },
 "nbformat": 4,
 "nbformat_minor": 5
}
